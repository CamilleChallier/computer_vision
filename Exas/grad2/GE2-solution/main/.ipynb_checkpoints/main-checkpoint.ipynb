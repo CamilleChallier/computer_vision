{
 "cells": [
  {
   "cell_type": "markdown",
   "metadata": {},
   "source": [
    "# Computer vision - graded exercise session 2 (2023)\n",
    "\n",
    "## Please write your name and student ID here: FIRSTNAME Lastname (XXXXXX)\n",
    "\n",
    "This exercise session revolves around the ideas of shape from texture. It consists of two independent tasks (1) on normal estimation from texture density and (2) on ellipse detection with a specialised variant of the Hough transform. The two tasks can be done in any order so we invite you to read both and start with the one you find easier/faster. Task 2 might appear longer, but it mostly consists in texts and explanations you have to read and understand. The actual code to write is not that long."
   ]
  },
  {
   "cell_type": "code",
   "execution_count": null,
   "metadata": {},
   "outputs": [],
   "source": []
  },
  {
   "cell_type": "code",
   "execution_count": 1,
   "metadata": {},
   "outputs": [],
   "source": [
    "# let's start with some imports for the two tasks\n",
    "\n",
    "import time\n",
    "import cv2\n",
    "import numpy as np\n",
    "import matplotlib.pyplot as plt\n",
    "%matplotlib inline\n",
    "from skimage import measure\n",
    "\n",
    "%load_ext autoreload\n",
    "%autoreload 2"
   ]
  },
  {
   "cell_type": "code",
   "execution_count": 5,
   "metadata": {},
   "outputs": [
    {
     "data": {
      "text/plain": [
       "(array([[ -8.94821839,  -9.72681478, -10.8427176 , -10.10353623,\n",
       "          -9.7224391 ],\n",
       "        [-10.2825217 ,  -9.54855291, -10.68826672,  -9.54205204,\n",
       "         -10.96624665],\n",
       "        [ -8.29194189, -11.44765684,  -9.04384106, -10.27112042,\n",
       "         -11.03402427],\n",
       "        [ -8.98956104,  -8.94950208, -10.34339065,  -9.24226991,\n",
       "         -10.356378  ],\n",
       "        [-10.35751471,  -9.43130362, -10.11831841, -11.28306284,\n",
       "          -9.26605632]]),\n",
       " True)"
      ]
     },
     "execution_count": 5,
     "metadata": {},
     "output_type": "execute_result"
    }
   ],
   "source": [
    "x = np.random.randn(5,5) - 10\n",
    "x, np.any(x)"
   ]
  },
  {
   "cell_type": "markdown",
   "metadata": {},
   "source": [
    "## Task 1: Normals from texture (11 points)"
   ]
  },
  {
   "cell_type": "markdown",
   "metadata": {},
   "source": [
    "You are given this picture of the corner of a room, where you know each wall and floor was covered with a texture made of regularly spaced dots.\n",
    "\n",
    "<div>\n",
    "<img src=\"nft_resources/full_scene.png\" width=\"800\"/>\n",
    "</div>\n",
    "\n",
    "Let's apply \"Statistical Shape Recovery\" (Slide 18 of Shape from Texture) to recover the normal orientation of each plane (wall 1, wall 2, floor).\n",
    "\n",
    "For this, we will process each plane independently, and use the fact that the texture is homogeneous. We have already cropped and binarized one image per plane for you. Each image is a 2D array of 0s (black dot) and 255s (white background)."
   ]
  },
  {
   "cell_type": "markdown",
   "metadata": {},
   "source": [
    "### Subtasks:\n",
    "* 1.1 Splitting into patches (2 points)\n",
    "* 1.2 Enumerate the connected components (1 point)\n",
    "* 1.3 Find texel densities in patches (3 points)\n",
    "* 1.4 Solve for patch normals (3 points)\n",
    "* 1.5 Combine the steps and check results (2 points)"
   ]
  },
  {
   "cell_type": "code",
   "execution_count": null,
   "metadata": {},
   "outputs": [],
   "source": [
    "wall1 = cv2.imread('nft_resources/crop_wall1.png')[...,0]\n",
    "wall2 = cv2.imread('nft_resources/crop_wall2.png')[...,0]\n",
    "floor = cv2.imread('nft_resources/crop_floor.png')[...,0]\n",
    "\n",
    "# Display the 3 images with a legend\n",
    "fig, ax = plt.subplots(1, 3, figsize=(15, 5))\n",
    "ax[0].imshow(wall1, cmap='gray')\n",
    "ax[0].set_title('Wall 1')\n",
    "ax[1].imshow(wall2, cmap='gray')\n",
    "ax[1].set_title('Wall 2')\n",
    "ax[2].imshow(floor, cmap='gray')\n",
    "ax[2].set_title('Floor')"
   ]
  },
  {
   "cell_type": "markdown",
   "metadata": {},
   "source": [
    "Let's focus on `wall1` for now. The first step is to divide the image into square patches that do not overlap, and record their coordinates. Complete the function below that implements this step.\n",
    "\n",
    "Each patch has size `patch_size*patch_size` (in pixels), and the input image has size `H*W`. We thus get `N = (H//patch_size)*(W//patch_size)` patches. Original input pixels that are not covered by a patch are ignored.\n",
    "\n",
    "In addition to the list of patches, the function should return the list of the coordinates of the center of each patch in the original image. The coordinates should be stored as homogeneous coordinates. This means two things:\n",
    " - coordinates are 3-tuples of the form `(u,v,1)`, with a `1` appended at the end.\n",
    " - coordinates are normalized so that the top left corner of the image is `(-1,-1,1)` and the bottom right corner is `(1,1,1)`.\n",
    "\n",
    "The process is illustrated in the image below, where the red dot is the coordinate of the first patch.\n",
    "\n",
    "![image](nft_resources/cropping.png)"
   ]
  },
  {
   "cell_type": "markdown",
   "metadata": {},
   "source": [
    "_________________________"
   ]
  },
  {
   "cell_type": "markdown",
   "metadata": {},
   "source": [
    "### Task 1.1 Splitting into patches (2 points)"
   ]
  },
  {
   "cell_type": "code",
   "execution_count": null,
   "metadata": {},
   "outputs": [],
   "source": [
    "def crop_into_patches(img, patch_size):\n",
    "    \"\"\"\n",
    "    Crop an image of size (H,W) into non-overlapping patches of size patch_size x patch_size\n",
    "    All patches must be exactly of size patch_size x patch_size.\n",
    "    The last rows and columns of img should be discarded if they are smaller than patch_size.\n",
    "\n",
    "    Returns two lists:\n",
    "    - patches: list of N patches, each of them a numpy array of size (patch_size, patch_size)\n",
    "    - uv1_coords: list of homogeneous coordinates of the center of each patch\n",
    "    \"\"\"\n",
    "    H, W = img.shape[:2]\n",
    "    patches = []\n",
    "    coords = []\n",
    "    ### YOUR CODE HERE\n",
    "    # for i in ...\n",
    "    ### END YOUR CODE\n",
    "\n",
    "    return patches, coords"
   ]
  },
  {
   "cell_type": "markdown",
   "metadata": {},
   "source": [
    "Let's test your function on `wall1` with `patch_size=100`. You should get 36 patches, and we provide some simple, non-exhaustive tests to check that the outputs are correct."
   ]
  },
  {
   "cell_type": "code",
   "execution_count": null,
   "metadata": {},
   "outputs": [],
   "source": [
    "img_patches, uv_coords = crop_into_patches(wall1, 100)\n",
    "\n",
    "print('Number of patches:', len(img_patches))\n",
    "assert len(img_patches) == 36, \"Wrong number of patches, expected 36\"\n",
    "assert len(img_patches) == len(uv_coords), \"Wrong number of coordinates, expected 36\"\n",
    "\n",
    "print(f'The first patch has shape {img_patches[0].shape} and uv coordinates {uv_coords[0]}')\n",
    "assert img_patches[0].shape == (100, 100), \"Wrong patch shape, expected (100, 100)\"\n",
    "assert len(uv_coords[0]) == 3, \"Wrong number of coordinates: expected homogeneous coordinates consisting of 3 scalars (u, v, 1)\"\n",
    "assert np.isclose(uv_coords[0], [-0.83333, -0.83333, 1], atol=1e-4).all(), \"Wrong coordinates: expected [-0.83333, -0.83333, 1]\"\n",
    "\n",
    "print(f'The last patch has shape {img_patches[-1].shape} and uv coordinates {uv_coords[-1]}')\n",
    "assert img_patches[-1].shape == (100, 100), \"Wrong patch shape, expected (100, 100)\"\n",
    "assert len(uv_coords[-1]) == 3, \"Wrong number of coordinates: expected homogeneous coordinates consisting of 3 scalars (u, v, 1)\"\n",
    "assert np.isclose(uv_coords[-1], [0.83333, 0.83333, 1], atol=1e-4).all(), \"Wrong coordinates: expected [0.83333, 0.83333, 1]\"\n",
    "\n",
    "# Display all patches\n",
    "print('All tests passed, now displaying all patches:')\n",
    "fig, ax = plt.subplots(6, len(img_patches) // 6, figsize=(7, 7))\n",
    "for i, patch in enumerate(img_patches):\n",
    "    ax[i // 6, i % 6].imshow(patch, cmap='gray')\n",
    "    ax[i // 6, i % 6].axis('off')"
   ]
  },
  {
   "cell_type": "markdown",
   "metadata": {},
   "source": [
    "We now need to estimate a measure of \"texture density\" for each patch. For this, we will count the number of texture elements (or texels) in each patch, i.e. the number of circles. To do so, use the function `measure.label` to enumerate the connected components: each connected component corresponds to a texel.\n",
    "\n",
    "Read its documentation, change its input arguments such that it accounts for\n",
    " - the fact that the texels are black and the background is white (255)\n",
    " - we want pixels to be 2-connected, meaning that pixels connected via their diagonal should be considered as connected.\n",
    "\n",
    "First, let's test it on a single patch. Make sure it returns a number of texels that is plausible with your visual inspection of the patch. Some texels can be very small near the edge of the patch, it is OK if you don't count EXACTLY the same number of texels as `measure.label`, but the difference should be small."
   ]
  },
  {
   "cell_type": "markdown",
   "metadata": {},
   "source": [
    "_________________________"
   ]
  },
  {
   "cell_type": "markdown",
   "metadata": {},
   "source": [
    "### Task 1.2 Enumerate the connected components (1 point)"
   ]
  },
  {
   "cell_type": "code",
   "execution_count": null,
   "metadata": {},
   "outputs": [],
   "source": [
    "# Find the connected components on the first patch\n",
    "### YOUR CODE HERE\n",
    "# labels, num = measure.label(img_patches[0] ...)\n",
    "### END YOUR CODE\n",
    "\n",
    "print(f\"Found {num} connected components (=texels)\")\n",
    "plt.imshow(labels,cmap=\"jet\")\n"
   ]
  },
  {
   "cell_type": "markdown",
   "metadata": {},
   "source": [
    "Now we can apply this idea it to all patches to get our measure of density.\n",
    "\n",
    "In fact, we do not directly use the number of texels as the density measure. Instead, we subtract to them the minimum number of texels found over all patches, `min_texels`. In other words, for each patch we have `density = number_of_texels - min_texels`. That way, the lowest density is 0 (this will be useful when solving the linear system later on).\n",
    "\n",
    "Complete the function below that computes the texture density of each patch and returns it as a list called `densities`. "
   ]
  },
  {
   "cell_type": "markdown",
   "metadata": {},
   "source": [
    "_________________________"
   ]
  },
  {
   "cell_type": "markdown",
   "metadata": {},
   "source": [
    "### Task 1.3 Find texel densities in patches (3 points)"
   ]
  },
  {
   "cell_type": "code",
   "execution_count": null,
   "metadata": {},
   "outputs": [],
   "source": [
    "def get_patches_densities(patch_list):\n",
    "    \"\"\"\n",
    "    Returns the densities of a list of patches.\n",
    "    \"\"\"\n",
    "    # 1: count the number of texels for each patch\n",
    "    ### YOUR CODE HERE\n",
    "    # number_of_texels = ...\n",
    "    ### END YOUR CODE\n",
    "\n",
    "    # 2: find the minimum number of texels\n",
    "    ### YOUR CODE HERE\n",
    "    # min_texels = ...\n",
    "    ### END YOUR CODE\n",
    "\n",
    "    # 3: compute the density of each patch\n",
    "    ### YOUR CODE HERE\n",
    "    # densities = ...\n",
    "    ### END YOUR CODE\n",
    "\n",
    "    return densities"
   ]
  },
  {
   "cell_type": "markdown",
   "metadata": {},
   "source": [
    "Try it on the patches we have extracted from `wall1`. You should get a list of 36 numbers, with a minimum value of 0."
   ]
  },
  {
   "cell_type": "code",
   "execution_count": null,
   "metadata": {},
   "outputs": [],
   "source": [
    "patches_densities = get_patches_densities(img_patches)\n",
    "\n",
    "assert len(patches_densities) == len(img_patches)\n",
    "assert min(patches_densities) == 0"
   ]
  },
  {
   "cell_type": "markdown",
   "metadata": {},
   "source": [
    "Now we need to solve for the linear system\n",
    "$$\n",
    "\\psi \\mathbf{n} = \\mathbf{b}\n",
    "$$\n",
    "where:\n",
    "- $\\psi$ is a $N \\times 3$ matrix, where $N$ is the number of patches. Each row is a patch homogeneous coordinate $(u, v, 1)$.\n",
    "- $\\mathbf{b}$ is a $N \\times 1$ vector, where each element is the density of the corresponding patch.\n",
    "- $\\mathbf{n}$ is a $3 \\times 1$ vector, that once normalized $\\mathbf{n^*}=\\frac{\\mathbf{n}}{||\\mathbf{n}||_2}$ is the unknown normal vector of the plane.\n",
    "\n",
    "You are asked to complete the function below that solves this system and returns the normal vector $\\mathbf{n^*}$. As input, it takes the list of patches coordinates `uv_coords` and their densities `patches_densities`."
   ]
  },
  {
   "cell_type": "markdown",
   "metadata": {},
   "source": [
    "_________________________"
   ]
  },
  {
   "cell_type": "markdown",
   "metadata": {},
   "source": [
    "### Task 1.4 Solve for patch normals (3 points)"
   ]
  },
  {
   "cell_type": "code",
   "execution_count": null,
   "metadata": {},
   "outputs": [],
   "source": [
    "def solve_equation(uv_coords, patches_densities):\n",
    "    # 1: build numpy arrays psi and b from the lists uv_coords and patches_densities\n",
    "    ### YOUR CODE HERE\n",
    "    # hint: a numpy array a of shape (N) can be reshaped to (N, 1) with the reshape method: a = a.reshape(-1, 1)\n",
    "    # psi = ...\n",
    "    # b = ...\n",
    "    ### END YOUR CODE\n",
    "\n",
    "    # 2: solve the linear equation psi * n = b, where n is the unknown vector\n",
    "    # Use np.linalg.lstsq (use rcond=None to silence a warning)\n",
    "    ### YOUR CODE HERE\n",
    "    # n = ...\n",
    "    ### END YOUR CODE\n",
    "\n",
    "    # 3: normalize n to have a unit norm\n",
    "    ### YOUR CODE HERE\n",
    "    # n = ...\n",
    "    ### END YOUR CODE\n",
    "\n",
    "    return n"
   ]
  },
  {
   "cell_type": "markdown",
   "metadata": {},
   "source": [
    "Check that it runs on the previously computed `uv_coords` and `patches_densities` extracted from `wall1`.\n",
    "You should get a $3\\times 1$ array of norm 1."
   ]
  },
  {
   "cell_type": "code",
   "execution_count": null,
   "metadata": {},
   "outputs": [],
   "source": [
    "n = solve_equation(uv_coords, patches_densities)\n",
    "\n",
    "assert n.shape == (3, 1)\n",
    "assert (np.linalg.norm(n) > 1 - 1e-4) and (np.linalg.norm(n) < 1 + 1e-4)"
   ]
  },
  {
   "cell_type": "markdown",
   "metadata": {},
   "source": [
    "Finally, put it all together into a single function, that takes as input a binarized image of a plane with a homogenous texture and a patch size, and returns the normal vector of the plane."
   ]
  },
  {
   "cell_type": "markdown",
   "metadata": {},
   "source": [
    "_________________________"
   ]
  },
  {
   "cell_type": "markdown",
   "metadata": {},
   "source": [
    "### Task 1.5 Combine the steps and check results (2 points)"
   ]
  },
  {
   "cell_type": "code",
   "execution_count": null,
   "metadata": {},
   "outputs": [],
   "source": [
    "def normal_from_texture(binary_image, patch_size=100):\n",
    "    \"\"\"\n",
    "    Returns the normal of a surface with homogeneous texture, from a binary image of the surface.\n",
    "    The normal is computed by solving a least square problem on the texels of the image.\n",
    "    Input:  - a binary image of a surface with homogeneous texture of shape (H, W) with pixel values in {0, 255}\n",
    "            - a patch size (default: 100) for computing texel densities\n",
    "    Output: the normal of the surface, as a numpy array of shape (3, 1)\n",
    "    \"\"\"\n",
    "    # 1: crop the image into patches\n",
    "    ### YOUR CODE HERE\n",
    "    # img_patches, uv_coords = ...\n",
    "    ### END YOUR CODE\n",
    "\n",
    "    # 2: compute the densities of the patches\n",
    "    ### YOUR CODE HERE\n",
    "    # patches_densities = ...\n",
    "    ### END YOUR CODE\n",
    "\n",
    "    # 3: solve the linear system\n",
    "    ### YOUR CODE HERE\n",
    "    # n = ...\n",
    "    ### END YOUR CODE\n",
    "\n",
    "    return n"
   ]
  },
  {
   "cell_type": "markdown",
   "metadata": {},
   "source": [
    "Apply it on the 3 planes `wall1`, `wall2` and `floor` with `patch_size=100`. You should get 3 normal vectors of norm 1."
   ]
  },
  {
   "cell_type": "code",
   "execution_count": null,
   "metadata": {},
   "outputs": [],
   "source": [
    "n_wall1 = normal_from_texture(wall1)\n",
    "assert n_wall1.shape == (3, 1), \"Wrong shape for the normal vector n_wall1, expected (3, 1)\"\n",
    "assert np.isclose(np.linalg.norm(n_wall1), 1, atol=1e-4), \"Wrong norm for the normal vector n_wall1, expected 1\"\n",
    "\n",
    "n_wall2 = normal_from_texture(wall2)\n",
    "assert n_wall2.shape == (3, 1), \"Wrong shape for the normal vector n_wall2, expected (3, 1)\"\n",
    "assert np.isclose(np.linalg.norm(n_wall2), 1, atol=1e-4), \"Wrong norm for the normal vector n_wall2, expected 1\"\n",
    "\n",
    "n_floor = normal_from_texture(floor)\n",
    "assert n_floor.shape == (3, 1), \"Wrong shape for the normal vector n_floor, expected (3, 1)\"\n",
    "assert np.isclose(np.linalg.norm(n_floor), 1, atol=1e-4), \"Wrong norm for the normal vector n_floor, expected 1\""
   ]
  },
  {
   "cell_type": "markdown",
   "metadata": {},
   "source": [
    "As a sanity check, you can compute the dot product between all pairs of estimated normals. Since the planes are orthogonal, the dot product should be relatively close to 0. You should get a value $<0.2$, meaning that the angle between the vectors is between 80 and 100 degrees, ie. close to perpendicular."
   ]
  },
  {
   "cell_type": "code",
   "execution_count": null,
   "metadata": {},
   "outputs": [],
   "source": [
    "### YOUR CODE HERE\n",
    "# print(f\"The dot product between the normal of wall1 and wall2 is {...}\")\n",
    "# print(f\"The dot product between the normal of wall1 and wall2 is {...}\")\n",
    "# print(f\"The dot product between the normal of wall1 and wall2 is {...}\")\n",
    "### END YOUR CODE\n"
   ]
  },
  {
   "cell_type": "markdown",
   "metadata": {},
   "source": [
    "_________________________"
   ]
  },
  {
   "cell_type": "markdown",
   "metadata": {},
   "source": [
    "_________________________"
   ]
  },
  {
   "cell_type": "markdown",
   "metadata": {},
   "source": [
    "_________________________"
   ]
  },
  {
   "cell_type": "markdown",
   "metadata": {},
   "source": [
    "## Task 2. Ellipse detection via Generalised Hough Transform (12 points)\n",
    "\n",
    "In the previous task you saw how texture density can be used to estimate surface normals, but we worked with the simplest possible setting: a plane. In this task we consider a more sophisticated version of Shape from Texture, on a generic surface covered with regular texels - ellipsoids. \n",
    "\n",
    "The first step is to detect the texels and estimate their parameters (orientation, shape). To do so, we will use a specialized variant of the Hough transform which you have seen in previous exercise sessions. \n",
    "\n",
    "The exercise is independent from the task above, and is only about detecting these ellipsoids. Using the detected ellipsoids to estimate surface normals is outside of the scope of this exercise.\n"
   ]
  },
  {
   "cell_type": "markdown",
   "metadata": {},
   "source": [
    "### Subtasks:\n",
    "\n",
    "* 2.1 Complexity (1 point)\n",
    "* 2.2 Distance (1 point)\n",
    "* 2.3 Center `x0` (1 point)\n",
    "* 2.4 Major axis `a` (1 point)\n",
    "* 2.5 Orientation `alpha` (1 point)\n",
    "* 2.6 Minor axis `b` (3 points)\n",
    "* 2.7 Best `b` with voting score (4 points)"
   ]
  },
  {
   "cell_type": "code",
   "execution_count": null,
   "metadata": {},
   "outputs": [],
   "source": [
    "def get_coords_of_edges(edges):\n",
    "    '''\n",
    "    inputs:\n",
    "        edges : np.array true/false H x W\n",
    "    return : \n",
    "        coords_edges : np.array N x 2 - 2D coordinates of the true points of the edges image input\n",
    "    '''\n",
    "    H, W = edges.shape\n",
    "    X, Y = np.meshgrid(np.arange(W), np.arange(H))\n",
    "    coords_all = np.stack([X,Y]) # 2 x H x W\n",
    "    coords_edges = coords_all[:,edges].T # N x 2\n",
    "    return coords_edges # stack of valid (x,y)"
   ]
  },
  {
   "cell_type": "markdown",
   "metadata": {},
   "source": [
    "Detection of the shape primitives is one of key tools for statistical shape recovery. \n",
    "You can easily say that the pattern below resembles a wave, because your brain decodes the positions and orientations of the ellipses on it.\n",
    "\n",
    "![Ellipse texture](ellipse_resources/ellipse_texture.png)"
   ]
  },
  {
   "cell_type": "markdown",
   "metadata": {},
   "source": [
    "You met Hough Transform before on one of our exercise sessions recently. \n",
    "In this exercise, we will focus on the detection of the ellipse using a rather simplified version of Generalized Hough Transform, in particular, we are going to implement the efficient algorithm for ellipse detection, proposed by [Yonghong Xie and Qiang Ji in 2002](https://citeseerx.ist.psu.edu/viewdoc/download;jsessionid=61678F4E21E15924FD49D66A179409C6?doi=10.1.1.1.8792&rep=rep1&type=pdf). \n",
    "Later, it was included in the nicely optimized `scikit-image` package and now can be used in one click."
   ]
  },
  {
   "cell_type": "markdown",
   "metadata": {},
   "source": [
    "Let's clarify what parameters describe an ellipse unambiguously. The authors propose to use the following to model one ellipse:\n",
    "* its center point `x0` (2 coordinates for $x,y$)\n",
    "* its major axis length `a` (one scalar value)\n",
    "* its minor axis length `b` (one scalar value)\n",
    "* its orientation `alpha` (one angle, computed with respect to the axes $x,y$)\n",
    "\n",
    "Hence, we have 5 parameters in total.\n"
   ]
  },
  {
   "cell_type": "markdown",
   "metadata": {},
   "source": [
    "1. The algorithm takes an estimate of image edges as input. The number of edge pixels is `N`.\n",
    "\n",
    "2. We consider every pair of edge pixels `x1` and `x2`  as two farthest points on an ellipse, in other words, the ends along the major axis (see _below_). We consider only those points `x1` and `x2` that are not too far or too close.\n",
    "\n",
    "3. Given `x1` and `x2`, the algorithm estimates the center `x0`, the major axis `a` and the orientation `alpha`.\n",
    "\n",
    "4. Then we loop across all the other points in the set of edge pixels (`N-2` points to consider), and assume it to be a point on the ellipse (see $(x,y)$ point _below_). We then compute the corresponding minor axis `b`. In other words, for a given pair `x1`,`x2` and every third point `x`, we estimate the remaining `b` parameter.\n",
    "\n",
    "5. For all `x`, the estimated `b` value is accumulated in the accumulator array of the Hough transform. In particular, the accumulator value at a given bin is incremented by 1 if the estimated `b` corresponds to the value range of the bin. \n",
    "\n",
    "6. For a given pair of `x1`, `x2`, we vote (ie. take the maximum) among accumulator values and choose the best `b` value.\n",
    "\n",
    "7. We prune those `b` estimates whose voting number is too small. It would mean that there is no ellipse on the points `x1`,`x2`.\n",
    "\n",
    "The main novelty of the proposed algorithm is that it estimates 4 parameters (out of 5) only from a pair of points $x_1$, $x_2$. The voting in the Hough Transform's accumulator is done only for the  minor axis parameter `b`.\n"
   ]
  },
  {
   "cell_type": "markdown",
   "metadata": {},
   "source": [
    "The diagram of an ellipse:\n",
    "\n",
    "<img src=\"ellipse_resources/ellipse_diagram2.png\"  width=\"500\">"
   ]
  },
  {
   "cell_type": "markdown",
   "metadata": {},
   "source": [
    "_________________________"
   ]
  },
  {
   "cell_type": "markdown",
   "metadata": {},
   "source": [
    "### Task 2.1 Complexity (1 point)\n",
    "\n",
    "You have read the algorithm description above. What is the complexity of this algorithm in terms of big-O of `N`? Explain why.\n",
    "\n",
    "YOUR ANSWER HERE: _________\n"
   ]
  },
  {
   "cell_type": "markdown",
   "metadata": {},
   "source": [
    "_________________________"
   ]
  },
  {
   "cell_type": "code",
   "execution_count": null,
   "metadata": {},
   "outputs": [],
   "source": [
    "image_orig = plt.imread(\"ellipse_resources/golfball_orig.jpeg\")\n",
    "image_crop = image_orig[150:200, 200:250] / 255\n",
    "image_crop = image_crop - image_crop.min() # to shift min to 0\n",
    "image_crop = image_crop / image_crop.max() # to scale max to 1\n",
    "\n",
    "fig, ax = plt.subplots(1,3, figsize=(15,5))\n",
    "ax[0].imshow(image_orig[50:-50,50:-50], cmap='gray')\n",
    "ax[1].imshow(image_crop, cmap='gray')\n",
    "\n",
    "edges = np.load(\"ellipse_resources/golfball_edges.npy\")\n",
    "ax[2].imshow(edges, cmap='gray')\n",
    "for axis in ax: axis.set_axis_off()\n",
    "fig.tight_layout()\n"
   ]
  },
  {
   "cell_type": "markdown",
   "metadata": {},
   "source": [
    "We will test our algorithm on the real image of a golf ball (_left_). The algorithm takes the edges as input. As you can see at the cropped image (_middle_), the shading inside the dimples makes it very hard to reconstruct the edges. We provide sparse but clean edges (_right_) for you. "
   ]
  },
  {
   "cell_type": "markdown",
   "metadata": {},
   "source": [
    "The function below converts edges array into the array of 2D coordinates with all edge points."
   ]
  },
  {
   "cell_type": "code",
   "execution_count": null,
   "metadata": {},
   "outputs": [],
   "source": [
    "coords_edges = get_coords_of_edges(edges)\n",
    "print(coords_edges.shape)\n",
    "N = len(coords_edges)\n",
    "\n",
    "# print first two points coordinates\n",
    "print(coords_edges[:2])\n"
   ]
  },
  {
   "cell_type": "markdown",
   "metadata": {},
   "source": [
    "Hence, we have 220 edge points. We are ready to jump into the algorithm!"
   ]
  },
  {
   "cell_type": "markdown",
   "metadata": {},
   "source": [
    "_________________________"
   ]
  },
  {
   "cell_type": "markdown",
   "metadata": {},
   "source": [
    "It is important to specify hyper-parameters for faster performance. For example, no need to check `x1`,`x2` that are too far or too close."
   ]
  },
  {
   "cell_type": "code",
   "execution_count": null,
   "metadata": {},
   "outputs": [],
   "source": [
    "### set the min and max values for major axis length\n",
    "MIN_2A = 10 \n",
    "MAX_2A = 30\n",
    "\n",
    "### helper function to discard bad solutions faster\n",
    "def is_valid(dist, min_dist, max_dist):\n",
    "    '''\n",
    "    if dist is not in [min_dist, max_dist], then return False, \n",
    "        otherwise True\n",
    "    '''\n",
    "    return (dist >= min_dist) and (dist <= max_dist)"
   ]
  },
  {
   "cell_type": "markdown",
   "metadata": {},
   "source": [
    "Hough transform parameters: we specify binning and the valid voting number. If `voting_tol` is too low - ignore this ellipse."
   ]
  },
  {
   "cell_type": "code",
   "execution_count": null,
   "metadata": {},
   "outputs": [],
   "source": [
    "### we need to vote only for minor axis b\n",
    "B_MIN = 1\n",
    "B_MAX = int(MAX_2A / 2)\n",
    "NUM_BINS = 20\n",
    "\n",
    "VOTING_TOL = 20"
   ]
  },
  {
   "cell_type": "markdown",
   "metadata": {},
   "source": [
    "Your task would be to implement most of the routine for the algorithm.\n",
    "We precomputed the output values of the functions you will have to implement later, so that you can see how this algorithm proceeds."
   ]
  },
  {
   "cell_type": "code",
   "execution_count": null,
   "metadata": {},
   "outputs": [],
   "source": [
    "from ellipse_resources.ellipse_utils import *"
   ]
  },
  {
   "cell_type": "markdown",
   "metadata": {},
   "source": [
    "We will illustrate the procedure step-by-step for one pair of points:"
   ]
  },
  {
   "cell_type": "code",
   "execution_count": null,
   "metadata": {},
   "outputs": [],
   "source": [
    "# pick two random edge pixels\n",
    "i = 10\n",
    "j = 100 \n",
    "x1 = coords_edges[i]\n",
    "x2 = coords_edges[j]\n",
    "print(x1, x2)"
   ]
  },
  {
   "cell_type": "code",
   "execution_count": null,
   "metadata": {},
   "outputs": [],
   "source": [
    "# first, check the distance between the points\n",
    "dist = get_dist_TEST(i,j)\n",
    "print(dist, is_valid(dist, 0, MAX_2A))"
   ]
  },
  {
   "cell_type": "code",
   "execution_count": null,
   "metadata": {},
   "outputs": [],
   "source": [
    "# distance lies in the expected bounds, \n",
    "# hence, we consider this pair of points to be the ends of the major axis.\n",
    "\n",
    "# compute the parameters for x0 (center), a (major axis length) and alpha (orientation).\n",
    "x0 = get_center_TEST(i,j)\n",
    "a = get_a_TEST(i,j)\n",
    "alpha = get_orient_TEST(i,j)\n",
    "print(x0, a, alpha)"
   ]
  },
  {
   "cell_type": "code",
   "execution_count": null,
   "metadata": {},
   "outputs": [],
   "source": [
    "# Now take every point x (that is not equal to x1 or x2) and consider it lying on the ellipse\n",
    "# Every point x will give its estimate for minor axis length b that we aggregate\n",
    "b_accum = get_b_accum_TEST(i,j)\n",
    "print(b_accum)"
   ]
  },
  {
   "cell_type": "code",
   "execution_count": null,
   "metadata": {},
   "outputs": [],
   "source": [
    "# We see that some bins of the accumulator have larger voting scores - this is the most probable value for b\n",
    "b_best, b_best_vote = get_best_b_with_vote_TEST(i, j)\n",
    "print(b_best, b_best_vote)"
   ]
  },
  {
   "cell_type": "code",
   "execution_count": null,
   "metadata": {},
   "outputs": [],
   "source": [
    "# The highest value in votes might not be enough - we want more points to vote and control it by VOTING_TOL\n",
    "print(VOTING_TOL, b_best_vote)"
   ]
  },
  {
   "cell_type": "code",
   "execution_count": null,
   "metadata": {},
   "outputs": [],
   "source": [
    "# VOTING_TOL is greater than the best voting score for points x1, x2. \n",
    "# Hence, we ignore this pair (i,j) and go to another."
   ]
  },
  {
   "cell_type": "markdown",
   "metadata": {},
   "source": [
    "Here we provide you a workable version of the algorithm. Most of this routine you will have to implement later:"
   ]
  },
  {
   "cell_type": "code",
   "execution_count": null,
   "metadata": {},
   "outputs": [],
   "source": [
    "start = time.time()\n",
    "\n",
    "ellipses = []\n",
    "for i in range(N): # choose x1\n",
    "    for j in range(N): # choose x2\n",
    "        if i >= j:\n",
    "            continue\n",
    "        \n",
    "        x1 = coords_edges[i]\n",
    "        x2 = coords_edges[j]\n",
    "        if not is_valid(get_dist_TEST(i,j), 0, MAX_2A): # get_dist() - Task 2.2\n",
    "            continue\n",
    "\n",
    "        ### compute x0, a, orient\n",
    "        x0 = get_center_TEST(i,j) # get_center() - Task 2.3\n",
    "        a = get_a_TEST(i,j) # get_a() - Task 2.4\n",
    "        alpha = get_orient_TEST(i,j) # get_orient() - Task 2.5\n",
    "        \n",
    "        ### find b by voting across all x\n",
    "        b_accum = get_b_accum_TEST(i,j) # inner function get_b() - Task 2.6\n",
    "        \n",
    "        b_best, b_best_vote = get_best_b_with_vote_TEST(i, j) ## extract best b and its voting score - Task 2.7\n",
    "        if b_best_vote >= VOTING_TOL: # if #votes is not enough - ignore\n",
    "            print(\n",
    "                f\"x0:{x0} a={a:.1f} b={b_best:.1f} alpha={alpha:.1f} | accum:\", b_best_vote)\n",
    "            ellipses.append([x0, a, b_best, alpha])\n",
    "\n",
    "print(f\"Time spent: {time.time()-start:.2f} sec\")"
   ]
  },
  {
   "cell_type": "code",
   "execution_count": null,
   "metadata": {},
   "outputs": [],
   "source": [
    "fig = visualize_ellipses(image_crop, ellipses)\n",
    "plt.show()"
   ]
  },
  {
   "cell_type": "markdown",
   "metadata": {},
   "source": [
    "_________________________"
   ]
  },
  {
   "cell_type": "markdown",
   "metadata": {},
   "source": [
    "Here we provide the diagram of an ellipse with all parameters you must estimate:\n",
    "\n",
    "<img src=\"ellipse_resources/ellipse_diagram2.png\"  width=\"500\">"
   ]
  },
  {
   "cell_type": "markdown",
   "metadata": {},
   "source": [
    "### Task 2.2 Distance (1 point)\n",
    "\n",
    "Compute the distance between two points `x1` and `x2`."
   ]
  },
  {
   "cell_type": "code",
   "execution_count": null,
   "metadata": {},
   "outputs": [],
   "source": [
    "def get_dist(x1, x2):\n",
    "    '''\n",
    "    x1, x2: np.arrays (2,) - 2D points\n",
    "    \n",
    "    return:\n",
    "        distance between the points\n",
    "    '''\n",
    "    ### YOUR CODE HERE\n",
    "    # ...\n",
    "    ###\n",
    "    return dist"
   ]
  },
  {
   "cell_type": "markdown",
   "metadata": {},
   "source": [
    "_________________________"
   ]
  },
  {
   "cell_type": "markdown",
   "metadata": {},
   "source": [
    "### Task 2.3 Center `x0` (1 point)\n",
    "\n",
    "Compute the mid point between `x1` and `x2`.\n"
   ]
  },
  {
   "cell_type": "code",
   "execution_count": null,
   "metadata": {},
   "outputs": [],
   "source": [
    "def get_center(x1, x2):\n",
    "    '''\n",
    "    x1, x2: np.arrays (2,) - 2D points\n",
    "    \n",
    "    return:\n",
    "        compute the mid point between the input points x1, x2\n",
    "    '''\n",
    "    ### YOUR CODE HERE\n",
    "    # center = ...\n",
    "    ###\n",
    "    return center"
   ]
  },
  {
   "cell_type": "markdown",
   "metadata": {},
   "source": [
    "_________________________"
   ]
  },
  {
   "cell_type": "markdown",
   "metadata": {},
   "source": [
    "### Task 2.4 Major axis `a` (1 point)\n",
    "\n",
    "Compute the major axis length, given the points `x1` and `x2`. "
   ]
  },
  {
   "cell_type": "code",
   "execution_count": null,
   "metadata": {},
   "outputs": [],
   "source": [
    "def get_a(x1, x2):\n",
    "    '''\n",
    "    return major axis length a\n",
    "    '''\n",
    "    ### YOUR CODE HERE\n",
    "    # a = ...\n",
    "    ###\n",
    "    return a"
   ]
  },
  {
   "cell_type": "markdown",
   "metadata": {},
   "source": [
    "_________________________"
   ]
  },
  {
   "cell_type": "markdown",
   "metadata": {},
   "source": [
    "### Task 2.5 Orientation `alpha` (1 point)\n",
    "\n",
    "Compute the angle between a vector that connects two points `x1`,`x2` and the x-axis."
   ]
  },
  {
   "cell_type": "code",
   "execution_count": null,
   "metadata": {},
   "outputs": [],
   "source": [
    "def get_orient(x1, x2):\n",
    "    '''\n",
    "    return the angle between (x2-x1) and axis x\n",
    "    '''\n",
    "    ### YOUR CODE HERE\n",
    "    # hint: use np.arctan2\n",
    "    # alpha = ...\n",
    "    ###\n",
    "    return alpha"
   ]
  },
  {
   "cell_type": "markdown",
   "metadata": {},
   "source": [
    "_________________________"
   ]
  },
  {
   "cell_type": "markdown",
   "metadata": {},
   "source": [
    "### Task 2.6 Minor axis `b` (3 points)\n",
    "\n",
    "Compute the minor axis length `b` for given `x2`,`x0`,`x` and `a`.\n",
    "\n",
    "Algorithm $b \\leftarrow$ `get_b` $(x_2, x_0, x, a)$:\n",
    "\n",
    "1. $d \\leftarrow dist(x_0, x)$\n",
    "2. $f \\leftarrow dist(x_0, x_2)$\n",
    "3. $cos(\\tau) = (a^2 + d^2 - f^2) / (2ad)$\n",
    "4. $b^2 = (a^2 + d^2 sin^2(\\tau) + 1e^{-7}) / (a^2 - d^2cos^2(\\tau))$\n",
    "5. return $b$\n",
    "\n",
    "Note that in step 4 we propose to add a little tolerance for numerical stability. Please, refer to the diagram we provide for details."
   ]
  },
  {
   "cell_type": "code",
   "execution_count": null,
   "metadata": {},
   "outputs": [],
   "source": [
    "def get_b(x2, x0, x, a):\n",
    "    '''\n",
    "    Follow the equations to compute minor axis length b from x2, x0, x, a.\n",
    "    '''\n",
    "    ### YOUR CODE HERE\n",
    "    # b = ...\n",
    "    ###\n",
    "    return b"
   ]
  },
  {
   "cell_type": "markdown",
   "metadata": {},
   "source": [
    "_________________________"
   ]
  },
  {
   "cell_type": "markdown",
   "metadata": {},
   "source": [
    "The next exercise for you to implement is extracting the best `b` value from the accumulator array. Here we provide its routine for you. These are the helper functions to update `b_accum` with a new `b` candidate. \n",
    "\n",
    "### (No changes required!)"
   ]
  },
  {
   "cell_type": "code",
   "execution_count": null,
   "metadata": {},
   "outputs": [],
   "source": [
    "def update_accum(b, b_accum):\n",
    "    r = (b - B_MIN) / (B_MAX - B_MIN)\n",
    "    index = int(r * NUM_BINS)\n",
    "    b_accum[index] += 1\n",
    "    return b_accum\n",
    "\n",
    "def get_b_accum(i, j, x0, x2):\n",
    "    b_accum = np.zeros(NUM_BINS)\n",
    "    for k in range(N):\n",
    "        if k == i or k == j:\n",
    "            continue\n",
    "        x = coords_edges[k]\n",
    "    \n",
    "        ### necessary checks\n",
    "        d = get_dist(x, x0)\n",
    "        d_01 = get_dist(x1, x0)\n",
    "        d_02 = get_dist(x2, x0)\n",
    "        if not is_valid(d, 0.5, MAX_2A) or d_01 <= d or d_02 <= d:\n",
    "            continue\n",
    "        \n",
    "        ### compute b\n",
    "        b = get_b(x2, x0, x, a) # Task 2.6\n",
    "\n",
    "        if b <= a and b > 1: # otherwise, b is invalid -> ignore\n",
    "            b_accum = update_accum(b, b_accum)\n",
    "        \n",
    "    return b_accum"
   ]
  },
  {
   "cell_type": "markdown",
   "metadata": {},
   "source": [
    "### Task 2.7 Best `b` with voting score (4 points)\n",
    "\n",
    "Given an accumulator array, the task is to return the best minor axis length `b_best` value and its voting score `b_best_vote`.\n",
    "\n",
    "The bins of `b_accum` represent the discretized values of b in the range `[B_MIN, B_MAX]`. See how `b_accum` is aggregated in the code above. It should help you recover `b_best` and `b_best_vote` correctly."
   ]
  },
  {
   "cell_type": "code",
   "execution_count": null,
   "metadata": {},
   "outputs": [],
   "source": [
    "def get_best_b_with_vote(b_accum):\n",
    "    '''\n",
    "    input: b_accum - np.array of length num_bins, every element contains voting score\n",
    "    return:\n",
    "        b_best - value of the most upvoted b bin\n",
    "        b_best_vote - the number of votes corresponding to the best b\n",
    "    '''\n",
    "    ### YOUR CODE HERE\n",
    "    # b_best = ...\n",
    "    # b_best_vote = ...\n",
    "    ###\n",
    "    return b_best, b_best_vote"
   ]
  },
  {
   "cell_type": "markdown",
   "metadata": {},
   "source": [
    "_________________________"
   ]
  },
  {
   "cell_type": "markdown",
   "metadata": {},
   "source": [
    "### Check your implementation (no changes required)"
   ]
  },
  {
   "cell_type": "markdown",
   "metadata": {},
   "source": [
    "If all your implementations are correct, the following cell should give exactly the same result as above.\n",
    "It explicitly uses all the functions you had to implement.\n",
    "If your implementation does not work correctly, you can use precomputed `b_accum` values for debug (see the example above with `..._TEST()` functions).\n",
    "\n",
    "NOTE: It might take up to 30 seconds for the algorithm to terminate."
   ]
  },
  {
   "cell_type": "code",
   "execution_count": null,
   "metadata": {},
   "outputs": [],
   "source": [
    "start = time.time()\n",
    "\n",
    "ellipses = []\n",
    "for i in range(N): # choose x1\n",
    "    for j in range(N): # choose x2\n",
    "        if i >= j:\n",
    "            continue\n",
    "        \n",
    "        x1 = coords_edges[i]\n",
    "        x2 = coords_edges[j]\n",
    "        if not is_valid(get_dist(x1,x2), 0, MAX_2A): # get_dist() - Task 2.2\n",
    "            continue\n",
    "\n",
    "        ### compute x0, a, orient\n",
    "        x0 = get_center(x1, x2) # Task 2.3\n",
    "        a = get_a(x1, x2) # Task 2.4\n",
    "        alpha = get_orient(x1, x2) # Task 2.5\n",
    "        \n",
    "        ### find b by voting across all x\n",
    "        b_accum = get_b_accum(i, j, x0, x2) # inner function get_b() - Task 2.6\n",
    "        \n",
    "        b_best, b_best_vote = get_best_b_with_vote(b_accum) # extract best b with its voting score - Task 2.7\n",
    "        \n",
    "        if b_best_vote >= VOTING_TOL: # if #votes is not enough - ignore\n",
    "            print(\n",
    "                f\"x0:{x0} a={a:.1f} b={b_best:.1f} alpha={alpha:.1f} | accum:\", b_best_vote)\n",
    "            ellipses.append([x0, a, b_best, alpha])\n",
    "        \n",
    "print(f\"Time spent: {time.time()-start:.2f} sec\")"
   ]
  },
  {
   "cell_type": "markdown",
   "metadata": {},
   "source": [
    "Let's visualize the estimated ellipses:"
   ]
  },
  {
   "cell_type": "code",
   "execution_count": null,
   "metadata": {},
   "outputs": [],
   "source": [
    "fig = visualize_ellipses(image_crop, ellipses)\n",
    "plt.show()"
   ]
  },
  {
   "cell_type": "markdown",
   "metadata": {},
   "source": [
    "_________________________"
   ]
  }
 ],
 "metadata": {
  "kernelspec": {
   "display_name": "Python 3 (ipykernel)",
   "language": "python",
   "name": "python3"
  },
  "language_info": {
   "codemirror_mode": {
    "name": "ipython",
    "version": 3
   },
   "file_extension": ".py",
   "mimetype": "text/x-python",
   "name": "python",
   "nbconvert_exporter": "python",
   "pygments_lexer": "ipython3",
   "version": "3.8.12"
  }
 },
 "nbformat": 4,
 "nbformat_minor": 2
}
